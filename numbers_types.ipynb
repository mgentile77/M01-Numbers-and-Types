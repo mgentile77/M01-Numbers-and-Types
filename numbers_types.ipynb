{
 "cells": [
  {
   "cell_type": "markdown",
   "metadata": {},
   "source": [
    "Michael Gentile\n",
    "M01 Numbers and Type"
   ]
  },
  {
   "cell_type": "markdown",
   "metadata": {},
   "source": [
    "Question 3.1 & 3.2"
   ]
  },
  {
   "cell_type": "code",
   "execution_count": 24,
   "metadata": {},
   "outputs": [
    {
     "name": "stdout",
     "output_type": "stream",
     "text": [
      "There are 3600 seconds in an hour.\n"
     ]
    }
   ],
   "source": [
    "seconds_in_minute = 60\n",
    "minutes_in_hour = 60\n",
    "seconds_in_hour = seconds_in_minute * minutes_in_hour\n",
    "print(f\"There are {seconds_in_hour} seconds in an hour.\")"
   ]
  },
  {
   "cell_type": "markdown",
   "metadata": {},
   "source": [
    "Question 3.3 & 3.4"
   ]
  },
  {
   "cell_type": "code",
   "execution_count": 23,
   "metadata": {},
   "outputs": [
    {
     "name": "stdout",
     "output_type": "stream",
     "text": [
      "There are 86400 seconds in an day.\n"
     ]
    }
   ],
   "source": [
    "hours_in_day = 24\n",
    "seconds_in_day = hours_in_day * seconds_in_hour\n",
    "print(f\"There are {seconds_in_day} seconds in an day.\")"
   ]
  },
  {
   "cell_type": "markdown",
   "metadata": {},
   "source": [
    "Question 3.5"
   ]
  },
  {
   "cell_type": "code",
   "execution_count": 22,
   "metadata": {},
   "outputs": [
    {
     "name": "stdout",
     "output_type": "stream",
     "text": [
      "The answer to question is (3.5) is 0.0417 rounded to 4 decimal places.\n"
     ]
    }
   ],
   "source": [
    "calculation_1 = round(float(seconds_in_hour/seconds_in_day),4)\n",
    "print(f\"The answer to question is (3.5) is {calculation_1} rounded to 4 decimal places.\")"
   ]
  },
  {
   "cell_type": "markdown",
   "metadata": {},
   "source": [
    "Question 3.6"
   ]
  },
  {
   "cell_type": "code",
   "execution_count": 21,
   "metadata": {},
   "outputs": [
    {
     "name": "stdout",
     "output_type": "stream",
     "text": [
      "The answer to question is (3.5) is 0.\n"
     ]
    }
   ],
   "source": [
    "calculation_2 = int((seconds_in_hour//seconds_in_day))\n",
    "print(f\"The answer to question is (3.5) is {calculation_2}.\")"
   ]
  },
  {
   "cell_type": "markdown",
   "metadata": {},
   "source": [
    "The answer does agree but is not precise.  This is due to the type of operation requested.  The operation requested will always return an answer rounded down to the nearest whole number.  Since the whole number in this case is zero(0), the operation is successful.  Further, because this operation will always return a whole number it may not be necessary to specify the datatype integer, as seen below."
   ]
  },
  {
   "cell_type": "code",
   "execution_count": 11,
   "metadata": {},
   "outputs": [
    {
     "name": "stdout",
     "output_type": "stream",
     "text": [
      "0\n"
     ]
    }
   ],
   "source": [
    "calculation_3 = seconds_in_hour//seconds_in_day\n",
    "print(calculation_3)"
   ]
  }
 ],
 "metadata": {
  "kernelspec": {
   "display_name": "Python 3",
   "language": "python",
   "name": "python3"
  },
  "language_info": {
   "codemirror_mode": {
    "name": "ipython",
    "version": 3
   },
   "file_extension": ".py",
   "mimetype": "text/x-python",
   "name": "python",
   "nbconvert_exporter": "python",
   "pygments_lexer": "ipython3",
   "version": "3.11.5"
  }
 },
 "nbformat": 4,
 "nbformat_minor": 2
}
